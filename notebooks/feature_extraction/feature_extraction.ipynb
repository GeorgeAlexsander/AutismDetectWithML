{
 "cells": [
  {
   "cell_type": "markdown",
   "metadata": {},
   "source": [
    "### Extração de Features de Imagens Usando OpenCV\n",
    "### Análise de Imagens com Detecção de Faces e Marcos Faciais\n",
    "\n",
    "Neste notebook, iremos carregar uma imagem de uma pasta local, realizar a detecção de faces e marcar pontos de referência faciais utilizando OpenCV.\n",
    "Vale dizer que ele também utiliza-se do virtual environment."
   ]
  },
  {
   "cell_type": "markdown",
   "metadata": {
    "vscode": {
     "languageId": "plaintext"
    }
   },
   "source": [
    "### 1 Importações de Bibliotecas\n",
    "Importando bibliotecas necessárias, utilizado as bibliotecas OpenCV (para processamento de imagens), NumPy (para manipulação de arrays), urllib (para baixar imagens a partir de URLs), e Matplotlib (para exibir imagens).\n"
   ]
  },
  {
   "cell_type": "code",
   "execution_count": 17,
   "metadata": {},
   "outputs": [
    {
     "name": "stdout",
     "output_type": "stream",
     "text": [
      "4.10.0\n"
     ]
    }
   ],
   "source": [
    "# Importando as bibliotecas necessárias\n",
    "import cv2\n",
    "import numpy as np\n",
    "import pandas as pd\n",
    "import matplotlib.pyplot as plt\n",
    "import os\n",
    "import csv\n",
    "import urllib.request as urlreq # used for accessing url to download files\n",
    "\n",
    "# Verificando a versão do OpenCV\n",
    "print(cv2.__version__)\n"
   ]
  },
  {
   "cell_type": "markdown",
   "metadata": {},
   "source": [
    "### 1 Carregando a Imagem\n",
    "\n",
    "Vamos carregar uma imagem da pasta `data/raw/no_autistic/`, onde a imagem tem o nome `0002.jpg`.\n"
   ]
  },
  {
   "cell_type": "code",
   "execution_count": 3,
   "metadata": {},
   "outputs": [
    {
     "name": "stdout",
     "output_type": "stream",
     "text": [
      "Imagem carregada com sucesso.\n"
     ]
    }
   ],
   "source": [
    "# Definindo o caminho da imagem\n",
    "image_path = '../data/raw/no_autistic/0002.jpg'\n",
    "\n",
    "# Verificando se a imagem existe\n",
    "if os.path.exists(image_path):\n",
    "    print(\"Imagem carregada com sucesso.\")\n",
    "else:\n",
    "    print(\"Imagem não encontrada.\")\n"
   ]
  },
  {
   "cell_type": "code",
   "execution_count": 4,
   "metadata": {},
   "outputs": [],
   "source": [
    "# Lendo a imagem com OpenCV\n",
    "image = cv2.imread(image_path)\n",
    "\n",
    "# Convertendo a imagem para o formato RGB\n",
    "image_rgb = cv2.cvtColor(image, cv2.COLOR_BGR2RGB)"
   ]
  },
  {
   "cell_type": "markdown",
   "metadata": {},
   "source": [
    "### 2 Manipulando a imagem\n",
    "\n",
    "Vamos obter as dimensões da imagem e preparar uma cópia para posterior uso.\n"
   ]
  },
  {
   "cell_type": "code",
   "execution_count": 5,
   "metadata": {},
   "outputs": [],
   "source": [
    "# Obtendo dimensões da imagem\n",
    "height, width, _ = image_rgb.shape\n",
    "\n",
    "# Criando uma cópia da imagem para uso posterior\n",
    "image_template = image_rgb.copy()\n"
   ]
  },
  {
   "cell_type": "markdown",
   "metadata": {},
   "source": [
    "##### 2.1 Convertendo a Imagem para Escala de Cinza\n",
    "\n",
    "A próxima etapa é converter a imagem para escala de cinza, o que facilitará a detecção de faces.\n"
   ]
  },
  {
   "cell_type": "code",
   "execution_count": 6,
   "metadata": {},
   "outputs": [],
   "source": [
    "# Convertendo a imagem para escala de cinza\n",
    "image_gray = cv2.cvtColor(image_rgb, cv2.COLOR_RGB2GRAY)"
   ]
  },
  {
   "cell_type": "markdown",
   "metadata": {},
   "source": [
    "### 3 Detecção de Faces\n",
    "\n",
    "Usaremos um classificador em cascata para detectar faces na imagem em escala de cinza.\n"
   ]
  },
  {
   "cell_type": "code",
   "execution_count": 7,
   "metadata": {},
   "outputs": [
    {
     "name": "stdout",
     "output_type": "stream",
     "text": [
      "File exists\n"
     ]
    }
   ],
   "source": [
    "# save face detection algorithm's url in haarcascade_url variable\n",
    "haarcascade_url = \"https://raw.githubusercontent.com/opencv/opencv/master/data/haarcascades/haarcascade_frontalface_alt2.xml\"\n",
    "\n",
    "# save face detection algorithm's name as haarcascade\n",
    "haarcascade = \"haarcascade_frontalface_alt2.xml\"\n",
    "\n",
    "# chech if file is in working directory\n",
    "if (haarcascade in os.listdir(os.curdir)):\n",
    "    print(\"File exists\")\n",
    "else:\n",
    "    # download file from url and save locally as haarcascade_frontalface_alt2.xml\n",
    "    urlreq.urlretrieve(haarcascade_url, haarcascade)\n",
    "    print(\"File downloaded\")\n"
   ]
  },
  {
   "cell_type": "code",
   "execution_count": 8,
   "metadata": {},
   "outputs": [
    {
     "name": "stdout",
     "output_type": "stream",
     "text": [
      "Classificador de faces carregado com sucesso.\n",
      "Faces detectadas:\n",
      " [[ 16  35 181 181]]\n"
     ]
    }
   ],
   "source": [
    "# Carregando o classificador em cascata para detecção de faces\n",
    "haarcascade = \"haarcascade_frontalface_alt2.xml\"\n",
    "\n",
    "# Verificando se o arquivo do classificador existe\n",
    "if os.path.exists(haarcascade):\n",
    "    print(\"Classificador de faces carregado com sucesso.\")\n",
    "else:\n",
    "    print(\"Classificador de faces não encontrado.\")\n",
    "    \n",
    "# Criando uma instância do classificador\n",
    "detector = cv2.CascadeClassifier(haarcascade)\n",
    "\n",
    "# Detectando faces\n",
    "faces = detector.detectMultiScale(image_gray)\n",
    "\n",
    "# Imprimindo as coordenadas das faces detectadas\n",
    "print(\"Faces detectadas:\\n\", faces)"
   ]
  },
  {
   "cell_type": "markdown",
   "metadata": {},
   "source": [
    "### 4 Detecção de Marcos Faciais\n",
    "\n",
    "Usaremos um modelo para detectar marcos faciais na imagem.\n"
   ]
  },
  {
   "cell_type": "code",
   "execution_count": 10,
   "metadata": {},
   "outputs": [
    {
     "name": "stdout",
     "output_type": "stream",
     "text": [
      "File exists\n"
     ]
    }
   ],
   "source": [
    "# URL do modelo de detecção de marcos faciais\n",
    "LBFmodel_url = \"https://github.com/kurnianggoro/GSOC2017/raw/master/data/lbfmodel.yaml\"\n",
    "LBFmodel = \"LFBmodel.yaml\"\n",
    "\n",
    "# save facial landmark detection model's name as LBFmodel\n",
    "LBFmodel = \"LFBmodel.yaml\"\n",
    "\n",
    "# check if file is in working directory\n",
    "if (LBFmodel in os.listdir(os.curdir)):\n",
    "    print(\"File exists\")\n",
    "else:\n",
    "    # download picture from url and save locally as lbfmodel.yaml\n",
    "    urlreq.urlretrieve(LBFmodel_url, LBFmodel)\n",
    "    print(\"File downloaded\")\n"
   ]
  },
  {
   "cell_type": "code",
   "execution_count": 11,
   "metadata": {},
   "outputs": [
    {
     "name": "stdout",
     "output_type": "stream",
     "text": [
      "Modelo de marcos faciais carregado com sucesso.\n"
     ]
    }
   ],
   "source": [
    "# Carregando o modelo para detecção de marcos faciais\n",
    "LBFmodel = \"LFBmodel.yaml\"\n",
    "\n",
    "# Verificando se o modelo existe\n",
    "if os.path.exists(LBFmodel):\n",
    "    print(\"Modelo de marcos faciais carregado com sucesso.\")\n",
    "else:\n",
    "    print(\"Modelo de marcos faciais não encontrado.\")"
   ]
  },
  {
   "cell_type": "code",
   "execution_count": 12,
   "metadata": {},
   "outputs": [
    {
     "name": "stdout",
     "output_type": "stream",
     "text": [
      "Marcos faciais detectados:\n",
      " (array([[[  5.1582456,  91.69355  ],\n",
      "        [  9.283361 , 115.16693  ],\n",
      "        [ 13.3863535, 136.83353  ],\n",
      "        [ 17.720093 , 158.1216   ],\n",
      "        [ 27.411402 , 178.03009  ],\n",
      "        [ 45.00972  , 193.60925  ],\n",
      "        [ 67.46247  , 205.43285  ],\n",
      "        [ 89.304344 , 217.16148  ],\n",
      "        [112.32767  , 221.5183   ],\n",
      "        [136.34933  , 217.56668  ],\n",
      "        [160.96786  , 206.9909   ],\n",
      "        [185.57544  , 195.1278   ],\n",
      "        [204.90663  , 178.89314  ],\n",
      "        [215.074    , 157.84894  ],\n",
      "        [218.90309  , 134.06833  ],\n",
      "        [221.5896   , 110.49313  ],\n",
      "        [224.26802  ,  85.16073  ],\n",
      "        [ 15.511505 ,  92.00125  ],\n",
      "        [ 30.041897 ,  83.04278  ],\n",
      "        [ 47.86354  ,  81.99157  ],\n",
      "        [ 65.91421  ,  83.50034  ],\n",
      "        [ 83.284225 ,  88.91806  ],\n",
      "        [120.8664   ,  89.02344  ],\n",
      "        [139.71324  ,  81.85276  ],\n",
      "        [159.74655  ,  79.36712  ],\n",
      "        [179.92867  ,  81.877945 ],\n",
      "        [198.46521  ,  88.49729  ],\n",
      "        [102.838104 , 104.553406 ],\n",
      "        [102.9326   , 117.56929  ],\n",
      "        [102.76315  , 130.2412   ],\n",
      "        [102.775955 , 143.23799  ],\n",
      "        [ 83.27376  , 152.1869   ],\n",
      "        [ 93.56771  , 154.842    ],\n",
      "        [104.429665 , 157.79057  ],\n",
      "        [116.1916   , 154.41063  ],\n",
      "        [127.639824 , 152.03265  ],\n",
      "        [ 41.52121  , 103.25492  ],\n",
      "        [ 53.995834 ,  99.8544   ],\n",
      "        [ 66.205925 ,  99.87742  ],\n",
      "        [ 78.2824   , 106.47088  ],\n",
      "        [ 65.360794 , 106.24201  ],\n",
      "        [ 53.112373 , 105.5626   ],\n",
      "        [133.56812  , 106.23014  ],\n",
      "        [145.66579  ,  99.168274 ],\n",
      "        [158.23845  ,  99.195755 ],\n",
      "        [172.47545  , 101.73852  ],\n",
      "        [158.8788   , 104.463486 ],\n",
      "        [146.42282  , 105.66258  ],\n",
      "        [ 64.334984 , 169.70103  ],\n",
      "        [ 81.14364  , 168.11356  ],\n",
      "        [ 95.87423  , 167.3237   ],\n",
      "        [106.34949  , 169.14671  ],\n",
      "        [116.89058  , 166.8596   ],\n",
      "        [135.1467   , 167.42212  ],\n",
      "        [155.60173  , 167.23985  ],\n",
      "        [135.97621  , 179.68948  ],\n",
      "        [118.82878  , 185.02953  ],\n",
      "        [107.36596  , 185.89992  ],\n",
      "        [ 96.322876 , 184.98048  ],\n",
      "        [ 81.678535 , 179.76073  ],\n",
      "        [ 70.1975   , 171.40582  ],\n",
      "        [ 96.053795 , 174.32973  ],\n",
      "        [106.7855   , 175.26192  ],\n",
      "        [117.75343  , 174.03714  ],\n",
      "        [149.50276  , 168.72018  ],\n",
      "        [117.64661  , 175.16075  ],\n",
      "        [106.73522  , 175.65646  ],\n",
      "        [ 95.98322  , 174.99217  ]]], dtype=float32),)\n"
     ]
    }
   ],
   "source": [
    "# Criando uma instância do detector de marcos faciais\n",
    "landmark_detector = cv2.face.createFacemarkLBF()\n",
    "landmark_detector.loadModel(LBFmodel)\n",
    "\n",
    "# Detectando marcos faciais\n",
    "_, landmarks = landmark_detector.fit(image_gray, faces)\n",
    "\n",
    "# Imprimindo as coordenadas dos marcos detectados\n",
    "print(\"Marcos faciais detectados:\\n\", landmarks)"
   ]
  },
  {
   "cell_type": "code",
   "execution_count": 13,
   "metadata": {},
   "outputs": [
    {
     "data": {
      "image/png": "[encoded data removed]",
      "text/plain": [
       "<Figure size 640x480 with 1 Axes>"
      ]
     },
     "metadata": {},
     "output_type": "display_data"
    }
   ],
   "source": [
    "# Criando uma imagem em branco com as mesmas dimensões da imagem original\n",
    "image_blank = np.ones((height, width, 3), dtype=np.uint8) * 255\n",
    "\n",
    "# Plotando os marcos na nova imagem branca\n",
    "for landmark in landmarks:\n",
    "    for i, (x, y) in enumerate(landmark[0]):\n",
    "        cv2.circle(image_blank, (int(x), int(y)), 1, (255, 0, 0), 2)\n",
    "        cv2.putText(image_blank, str(i + 1), (int(x), int(y)), cv2.FONT_HERSHEY_SIMPLEX, 0.4, (0, 0, 0), 1)\n",
    "\n",
    "# Exibindo a imagem resultante com os marcos\n",
    "plt.imshow(image_blank)\n",
    "plt.axis(\"off\")\n",
    "plt.title(\"Marcos Faciais\")\n",
    "plt.show()"
   ]
  },
  {
   "cell_type": "markdown",
   "metadata": {},
   "source": [
    "### 7 Salvando os Marcos Faciais em um Arquivo CSV\n",
    "\n",
    "Por fim, vamos salvar as coordenadas dos marcos faciais em um arquivo CSV.\n"
   ]
  },
  {
   "cell_type": "code",
   "execution_count": 18,
   "metadata": {},
   "outputs": [
    {
     "name": "stdout",
     "output_type": "stream",
     "text": [
      "Marcos faciais salvos em landmarks.csv.\n"
     ]
    }
   ],
   "source": [
    "# Inicializa uma lista para armazenar as linhas do DataFrame\n",
    "data = []\n",
    "\n",
    "for landmark in landmarks:\n",
    "    # Aplanando o array de marcos para uma lista\n",
    "    flattened_landmark = landmark.flatten()\n",
    "    # Adicionando a linha à lista de dados\n",
    "    data.append(flattened_landmark)\n",
    "\n",
    "# Criando o DataFrame com colunas dinâmicas\n",
    "num_points = 68  # Número de pontos (68 neste caso)\n",
    "column_names = [f'X{i+1}' for i in range(num_points)] + [f'Y{i+1}' for i in range(num_points)]\n",
    "\n",
    "# Criando o DataFrame\n",
    "df = pd.DataFrame(data, columns=column_names)\n",
    "\n",
    "# Salvando o DataFrame em um arquivo CSV\n",
    "df.to_csv('landmarks.csv', index=False)\n",
    "\n",
    "print(\"Marcos faciais salvos em landmarks.csv.\")\n"
   ]
  }
 ],
 "metadata": {
  "kernelspec": {
   "display_name": "venv",
   "language": "python",
   "name": "python3"
  },
  "language_info": {
   "codemirror_mode": {
    "name": "ipython",
    "version": 3
   },
   "file_extension": ".py",
   "mimetype": "text/x-python",
   "name": "python",
   "nbconvert_exporter": "python",
   "pygments_lexer": "ipython3",
   "version": "3.12.0"
  }
 },
 "nbformat": 4,
 "nbformat_minor": 2
}
